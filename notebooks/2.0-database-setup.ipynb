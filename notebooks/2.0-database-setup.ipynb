{
 "cells": [
  {
   "cell_type": "markdown",
   "metadata": {},
   "source": [
    "# <center><font color = '#DF9166' size = 20 center> **Data Preprocessing and Exploration**</font></center>\n",
    "\n"
   ]
  },
  {
   "cell_type": "markdown",
   "metadata": {},
   "source": [
    "## <font color = '#DF9166' size=6>**Table of content**<font/><a class = 'anchor' id = 'introduction'/>"
   ]
  },
  {
   "cell_type": "markdown",
   "metadata": {},
   "source": [
    "1. [**Import Libraries**](#import)\n",
    "2. [**Data Loading**](#data_loading)\n",
    "3. [**Data Insertion**](#data_insertion)\n",
    "4. [**Verify Data Insertion**](#verify_insertion)"
   ]
  },
  {
   "cell_type": "markdown",
   "metadata": {},
   "source": [
    "## <font color = '#DF9166' size=6>**Import Libraries**<font/><a class = 'anchor' id = 'import'/>\n"
   ]
  },
  {
   "cell_type": "code",
   "execution_count": 1,
   "metadata": {},
   "outputs": [],
   "source": [
    "import os\n",
    "import sys\n",
    "import warnings\n",
    "import pandas as pd"
   ]
  },
  {
   "cell_type": "code",
   "execution_count": 2,
   "metadata": {},
   "outputs": [],
   "source": [
    "warnings.filterwarnings(\"ignore\")\n",
    "pd.set_option(\"display.max_colwidth\", None)"
   ]
  },
  {
   "cell_type": "code",
   "execution_count": 3,
   "metadata": {},
   "outputs": [],
   "source": [
    "sys.path.append(os.path.abspath(os.pardir))\n",
    "from src.create_db import *"
   ]
  },
  {
   "cell_type": "markdown",
   "metadata": {},
   "source": [
    "## <font color = '#DF9166' size=6>**Data Loading**<font/><a class = 'anchor' id = 'data_loading'/>"
   ]
  },
  {
   "cell_type": "code",
   "execution_count": 4,
   "metadata": {},
   "outputs": [],
   "source": [
    "DATA_PATH = \"../data/processed/cleaned_data.csv\""
   ]
  },
  {
   "cell_type": "code",
   "execution_count": 5,
   "metadata": {},
   "outputs": [
    {
     "data": {
      "text/html": [
       "<div>\n",
       "<style scoped>\n",
       "    .dataframe tbody tr th:only-of-type {\n",
       "        vertical-align: middle;\n",
       "    }\n",
       "\n",
       "    .dataframe tbody tr th {\n",
       "        vertical-align: top;\n",
       "    }\n",
       "\n",
       "    .dataframe thead th {\n",
       "        text-align: right;\n",
       "    }\n",
       "</style>\n",
       "<table border=\"1\" class=\"dataframe\">\n",
       "  <thead>\n",
       "    <tr style=\"text-align: right;\">\n",
       "      <th></th>\n",
       "      <th>channel_name</th>\n",
       "      <th>channel_address</th>\n",
       "      <th>channel_id</th>\n",
       "      <th>message_id</th>\n",
       "      <th>date</th>\n",
       "      <th>message</th>\n",
       "      <th>media_path</th>\n",
       "      <th>width</th>\n",
       "      <th>height</th>\n",
       "      <th>message_length</th>\n",
       "      <th>word_count</th>\n",
       "      <th>cleaned_message</th>\n",
       "    </tr>\n",
       "  </thead>\n",
       "  <tbody>\n",
       "    <tr>\n",
       "      <th>2224</th>\n",
       "      <td>Lobelia pharmacy and cosmetics</td>\n",
       "      <td>lobelia4cosmetics</td>\n",
       "      <td>1666492664</td>\n",
       "      <td>13589</td>\n",
       "      <td>2024-11-22 16:12:53</td>\n",
       "      <td>QUAKER OATS \\nPrice 5000 birr \\nTelegram https://t.me/lobelia4cosmetics\\nMsg👉 Lobelia pharmacy and cosmetics \\n☎️ call 0911562031/0911587703\\nAdress:- Infront of Bole Medhanialem high school \\nOpen Monday - Monday from 8am until midnight ከሰኞ - እስከ ሰኞ  ከጧቱ 2:00 ስዓት - እስከ ምሽቱ 6:00 ሰዓት\\n🏍🏍🏍 የትራንስፖርት አማራጭ ከ70 - 200 ብር\\nFor delivery option fees are from 70 birr - 200 birr</td>\n",
       "      <td>../data/raw/scraped_data/lobelia4cosmetics/photos/photo_69@04-11-2024_06-46-24.jpg</td>\n",
       "      <td>1000.0</td>\n",
       "      <td>1000.0</td>\n",
       "      <td>361</td>\n",
       "      <td>60</td>\n",
       "      <td>QUAKER OATS \\nPrice 5000 birr \\nTelegram https://t.me/lobelia4cosmetics\\nMsg Lobelia pharmacy and cosmetics \\n call 0911562031/0911587703\\nAdress:- Infront of Bole Medhanialem high school \\nOpen Monday - Monday from 8am until midnight ከሰኞ - እስከ ሰኞ  ከጧቱ 2:00 ስዓት - እስከ ምሽቱ 6:00 ሰዓት\\n የትራንስፖርት አማራጭ ከ70 - 200 ብር\\nFor delivery option fees are from 70 birr - 200 birr</td>\n",
       "    </tr>\n",
       "    <tr>\n",
       "      <th>3661</th>\n",
       "      <td>Lobelia pharmacy and cosmetics</td>\n",
       "      <td>lobelia4cosmetics</td>\n",
       "      <td>1666492664</td>\n",
       "      <td>15074</td>\n",
       "      <td>2025-01-26 10:33:25</td>\n",
       "      <td>ENSURE 850GM\\nPrice 3800 birr \\nTelegram https://t.me/lobelia4cosmetics\\nMsg👉 Lobelia pharmacy and cosmetics \\n☎️ call 0911562031/0911587703\\nAdress:- Infront of Bole Medhanialem high school \\nOpen Monday - Monday from 8am until midnight ከሰኞ - እስከ ሰኞ  ከጧቱ 2:00 ስዓት - እስከ ምሽቱ 6:00 ሰዓት\\n🏍🏍🏍 የትራንስፖርት አማራጭ ከ70 - 200 ብር\\nFor delivery option fees are from 70 birr - 200 birr</td>\n",
       "      <td>../data/raw/scraped_data/lobelia4cosmetics/photos/photo_25@02-11-2024_08-57-50.jpg</td>\n",
       "      <td>515.0</td>\n",
       "      <td>515.0</td>\n",
       "      <td>361</td>\n",
       "      <td>60</td>\n",
       "      <td>ENSURE 850GM\\nPrice 3800 birr \\nTelegram https://t.me/lobelia4cosmetics\\nMsg Lobelia pharmacy and cosmetics \\n call 0911562031/0911587703\\nAdress:- Infront of Bole Medhanialem high school \\nOpen Monday - Monday from 8am until midnight ከሰኞ - እስከ ሰኞ  ከጧቱ 2:00 ስዓት - እስከ ምሽቱ 6:00 ሰዓት\\n የትራንስፖርት አማራጭ ከ70 - 200 ብር\\nFor delivery option fees are from 70 birr - 200 birr</td>\n",
       "    </tr>\n",
       "    <tr>\n",
       "      <th>3194</th>\n",
       "      <td>Lobelia pharmacy and cosmetics</td>\n",
       "      <td>lobelia4cosmetics</td>\n",
       "      <td>1666492664</td>\n",
       "      <td>14590</td>\n",
       "      <td>2024-12-31 16:57:01</td>\n",
       "      <td>KIRKLAND CHILDREN'S MULTIVITAMIN 250 GUMMIES \\nPrice 4000 birr \\nTelegram @Lobeliacosmetics \\nMsg👉 Lobelia pharmacy and cosmetics \\n☎️ call 0911562031/0911587703\\nAdress:- Infront of Bole Medhanialem high school \\nALEMNESH PLAZA GROUND FLOOR \\nOpen Monday - Monday from 8am until midnight ከሰኞ - እስከ ሰኞ  ከጧቱ 2:00 ስዓት - እስከ ምሽቱ 6:00 ሰዓት\\n🏍🏍🏍 የትራንስፖርት አማራጭ ከ70 - 500 ብር\\nFor delivery option fees are from 70 birr - 500 birr</td>\n",
       "      <td>../data/raw/scraped_data/lobelia4cosmetics/photos/photo_861@04-12-2024_18-30-26.jpg</td>\n",
       "      <td>680.0</td>\n",
       "      <td>680.0</td>\n",
       "      <td>411</td>\n",
       "      <td>67</td>\n",
       "      <td>KIRKLAND CHILDREN'S MULTIVITAMIN 250 GUMMIES \\nPrice 4000 birr \\nTelegram @Lobeliacosmetics \\nMsg Lobelia pharmacy and cosmetics \\n call 0911562031/0911587703\\nAdress:- Infront of Bole Medhanialem high school \\nALEMNESH PLAZA GROUND FLOOR \\nOpen Monday - Monday from 8am until midnight ከሰኞ - እስከ ሰኞ  ከጧቱ 2:00 ስዓት - እስከ ምሽቱ 6:00 ሰዓት\\n የትራንስፖርት አማራጭ ከ70 - 500 ብር\\nFor delivery option fees are from 70 birr - 500 birr</td>\n",
       "    </tr>\n",
       "  </tbody>\n",
       "</table>\n",
       "</div>"
      ],
      "text/plain": [
       "                        channel_name    channel_address  channel_id  \\\n",
       "2224  Lobelia pharmacy and cosmetics  lobelia4cosmetics  1666492664   \n",
       "3661  Lobelia pharmacy and cosmetics  lobelia4cosmetics  1666492664   \n",
       "3194  Lobelia pharmacy and cosmetics  lobelia4cosmetics  1666492664   \n",
       "\n",
       "      message_id                 date  \\\n",
       "2224       13589  2024-11-22 16:12:53   \n",
       "3661       15074  2025-01-26 10:33:25   \n",
       "3194       14590  2024-12-31 16:57:01   \n",
       "\n",
       "                                                                                                                                                                                                                                                                                                                                                                                                                                   message  \\\n",
       "2224                                                     QUAKER OATS \\nPrice 5000 birr \\nTelegram https://t.me/lobelia4cosmetics\\nMsg👉 Lobelia pharmacy and cosmetics \\n☎️ call 0911562031/0911587703\\nAdress:- Infront of Bole Medhanialem high school \\nOpen Monday - Monday from 8am until midnight ከሰኞ - እስከ ሰኞ  ከጧቱ 2:00 ስዓት - እስከ ምሽቱ 6:00 ሰዓት\\n🏍🏍🏍 የትራንስፖርት አማራጭ ከ70 - 200 ብር\\nFor delivery option fees are from 70 birr - 200 birr   \n",
       "3661                                                     ENSURE 850GM\\nPrice 3800 birr \\nTelegram https://t.me/lobelia4cosmetics\\nMsg👉 Lobelia pharmacy and cosmetics \\n☎️ call 0911562031/0911587703\\nAdress:- Infront of Bole Medhanialem high school \\nOpen Monday - Monday from 8am until midnight ከሰኞ - እስከ ሰኞ  ከጧቱ 2:00 ስዓት - እስከ ምሽቱ 6:00 ሰዓት\\n🏍🏍🏍 የትራንስፖርት አማራጭ ከ70 - 200 ብር\\nFor delivery option fees are from 70 birr - 200 birr   \n",
       "3194  KIRKLAND CHILDREN'S MULTIVITAMIN 250 GUMMIES \\nPrice 4000 birr \\nTelegram @Lobeliacosmetics \\nMsg👉 Lobelia pharmacy and cosmetics \\n☎️ call 0911562031/0911587703\\nAdress:- Infront of Bole Medhanialem high school \\nALEMNESH PLAZA GROUND FLOOR \\nOpen Monday - Monday from 8am until midnight ከሰኞ - እስከ ሰኞ  ከጧቱ 2:00 ስዓት - እስከ ምሽቱ 6:00 ሰዓት\\n🏍🏍🏍 የትራንስፖርት አማራጭ ከ70 - 500 ብር\\nFor delivery option fees are from 70 birr - 500 birr   \n",
       "\n",
       "                                                                               media_path  \\\n",
       "2224   ../data/raw/scraped_data/lobelia4cosmetics/photos/photo_69@04-11-2024_06-46-24.jpg   \n",
       "3661   ../data/raw/scraped_data/lobelia4cosmetics/photos/photo_25@02-11-2024_08-57-50.jpg   \n",
       "3194  ../data/raw/scraped_data/lobelia4cosmetics/photos/photo_861@04-12-2024_18-30-26.jpg   \n",
       "\n",
       "       width  height  message_length  word_count  \\\n",
       "2224  1000.0  1000.0             361          60   \n",
       "3661   515.0   515.0             361          60   \n",
       "3194   680.0   680.0             411          67   \n",
       "\n",
       "                                                                                                                                                                                                                                                                                                                                                                                                                     cleaned_message  \n",
       "2224                                                     QUAKER OATS \\nPrice 5000 birr \\nTelegram https://t.me/lobelia4cosmetics\\nMsg Lobelia pharmacy and cosmetics \\n call 0911562031/0911587703\\nAdress:- Infront of Bole Medhanialem high school \\nOpen Monday - Monday from 8am until midnight ከሰኞ - እስከ ሰኞ  ከጧቱ 2:00 ስዓት - እስከ ምሽቱ 6:00 ሰዓት\\n የትራንስፖርት አማራጭ ከ70 - 200 ብር\\nFor delivery option fees are from 70 birr - 200 birr  \n",
       "3661                                                     ENSURE 850GM\\nPrice 3800 birr \\nTelegram https://t.me/lobelia4cosmetics\\nMsg Lobelia pharmacy and cosmetics \\n call 0911562031/0911587703\\nAdress:- Infront of Bole Medhanialem high school \\nOpen Monday - Monday from 8am until midnight ከሰኞ - እስከ ሰኞ  ከጧቱ 2:00 ስዓት - እስከ ምሽቱ 6:00 ሰዓት\\n የትራንስፖርት አማራጭ ከ70 - 200 ብር\\nFor delivery option fees are from 70 birr - 200 birr  \n",
       "3194  KIRKLAND CHILDREN'S MULTIVITAMIN 250 GUMMIES \\nPrice 4000 birr \\nTelegram @Lobeliacosmetics \\nMsg Lobelia pharmacy and cosmetics \\n call 0911562031/0911587703\\nAdress:- Infront of Bole Medhanialem high school \\nALEMNESH PLAZA GROUND FLOOR \\nOpen Monday - Monday from 8am until midnight ከሰኞ - እስከ ሰኞ  ከጧቱ 2:00 ስዓት - እስከ ምሽቱ 6:00 ሰዓት\\n የትራንስፖርት አማራጭ ከ70 - 500 ብር\\nFor delivery option fees are from 70 birr - 500 birr  "
      ]
     },
     "execution_count": 5,
     "metadata": {},
     "output_type": "execute_result"
    }
   ],
   "source": [
    "# Load the Dataset\n",
    "df = pd.read_csv(DATA_PATH)\n",
    "df.sample(3)"
   ]
  },
  {
   "cell_type": "code",
   "execution_count": 6,
   "metadata": {},
   "outputs": [
    {
     "name": "stdout",
     "output_type": "stream",
     "text": [
      "Shape of Dataframe: (4131, 12)\n"
     ]
    }
   ],
   "source": [
    "print(f\"Shape of Dataframe: {df.shape}\")"
   ]
  },
  {
   "cell_type": "code",
   "execution_count": 7,
   "metadata": {},
   "outputs": [
    {
     "name": "stdout",
     "output_type": "stream",
     "text": [
      "Dataframe Info: \n",
      "\n",
      "<class 'pandas.core.frame.DataFrame'>\n",
      "RangeIndex: 4131 entries, 0 to 4130\n",
      "Data columns (total 12 columns):\n",
      " #   Column           Non-Null Count  Dtype  \n",
      "---  ------           --------------  -----  \n",
      " 0   channel_name     4131 non-null   object \n",
      " 1   channel_address  4131 non-null   object \n",
      " 2   channel_id       4131 non-null   int64  \n",
      " 3   message_id       4131 non-null   int64  \n",
      " 4   date             4131 non-null   object \n",
      " 5   message          4131 non-null   object \n",
      " 6   media_path       4131 non-null   object \n",
      " 7   width            4131 non-null   float64\n",
      " 8   height           4131 non-null   float64\n",
      " 9   message_length   4131 non-null   int64  \n",
      " 10  word_count       4131 non-null   int64  \n",
      " 11  cleaned_message  4131 non-null   object \n",
      "dtypes: float64(2), int64(4), object(6)\n",
      "memory usage: 387.4+ KB\n"
     ]
    }
   ],
   "source": [
    "print(f\"Dataframe Info: \\n\")\n",
    "df.info()"
   ]
  },
  {
   "cell_type": "markdown",
   "metadata": {},
   "source": [
    "## <font color = '#DF9166' size=6>**Data Insertion**<font/><a class = 'anchor' id = 'data_insertion'/>"
   ]
  },
  {
   "cell_type": "code",
   "execution_count": 8,
   "metadata": {},
   "outputs": [
    {
     "name": "stderr",
     "output_type": "stream",
     "text": [
      "2025-02-02 21:03:20,907 - INFO - ✅ Successfully connected to the SQLite database.\n"
     ]
    }
   ],
   "source": [
    "engine = get_db_connection()"
   ]
  },
  {
   "cell_type": "code",
   "execution_count": 9,
   "metadata": {},
   "outputs": [
    {
     "name": "stderr",
     "output_type": "stream",
     "text": [
      "2025-02-02 21:03:21,225 - INFO - ✅ Table 'telegram_messages' created successfully.\n"
     ]
    }
   ],
   "source": [
    "#  Create Table in sqlite3\n",
    "create_table(engine)"
   ]
  },
  {
   "cell_type": "code",
   "execution_count": null,
   "metadata": {},
   "outputs": [],
   "source": [
    "# Insert into the database\n",
    "insert_data(engine, df)"
   ]
  },
  {
   "cell_type": "markdown",
   "metadata": {},
   "source": [
    "## <font color = '#DF9166' size=6>**Verify Data Insertion**<font/><a class = 'anchor' id = 'verify_insertion'/>"
   ]
  },
  {
   "cell_type": "code",
   "execution_count": 11,
   "metadata": {},
   "outputs": [
    {
     "data": {
      "text/html": [
       "<div>\n",
       "<style scoped>\n",
       "    .dataframe tbody tr th:only-of-type {\n",
       "        vertical-align: middle;\n",
       "    }\n",
       "\n",
       "    .dataframe tbody tr th {\n",
       "        vertical-align: top;\n",
       "    }\n",
       "\n",
       "    .dataframe thead th {\n",
       "        text-align: right;\n",
       "    }\n",
       "</style>\n",
       "<table border=\"1\" class=\"dataframe\">\n",
       "  <thead>\n",
       "    <tr style=\"text-align: right;\">\n",
       "      <th></th>\n",
       "      <th>db_id</th>\n",
       "      <th>channel_name</th>\n",
       "      <th>channel_address</th>\n",
       "      <th>channel_id</th>\n",
       "      <th>message_id</th>\n",
       "      <th>date</th>\n",
       "      <th>message</th>\n",
       "      <th>cleaned_message</th>\n",
       "      <th>media_path</th>\n",
       "      <th>width</th>\n",
       "      <th>height</th>\n",
       "    </tr>\n",
       "  </thead>\n",
       "  <tbody>\n",
       "    <tr>\n",
       "      <th>0</th>\n",
       "      <td>1e83ba40-6f7c-4201-93eb-3564eedcaf8d</td>\n",
       "      <td>ETHIO-AMERICAN MEDICAL TRAININGS( CPD ) &amp; HEALTH CONSULTANCY CENTER</td>\n",
       "      <td>EAHCI</td>\n",
       "      <td>1432982009</td>\n",
       "      <td>44</td>\n",
       "      <td>2021-05-11 19:55:22</td>\n",
       "      <td>ኢድ-ሀሙስ ሆኗል።</td>\n",
       "      <td>ኢድ-ሀሙስ ሆኗል።</td>\n",
       "      <td>../data/raw/scraped_data/EAHCI/photos/photo_7@11-05-2021_19-55-22.jpg</td>\n",
       "      <td>1000.0</td>\n",
       "      <td>1000.0</td>\n",
       "    </tr>\n",
       "    <tr>\n",
       "      <th>4</th>\n",
       "      <td>745bfbae-b9ac-4a58-9ac5-26f0d9f0f68a</td>\n",
       "      <td>ETHIO-AMERICAN MEDICAL TRAININGS( CPD ) &amp; HEALTH CONSULTANCY CENTER</td>\n",
       "      <td>EAHCI</td>\n",
       "      <td>1432982009</td>\n",
       "      <td>99</td>\n",
       "      <td>2021-06-06 11:07:07</td>\n",
       "      <td>Circumcision Training started at Hawassa , Theory @Central Hotel ,,,practical ➽Hospitals</td>\n",
       "      <td>Circumcision Training started at Hawassa , Theory @Central Hotel ,,,practical Hospitals</td>\n",
       "      <td>../data/raw/scraped_data/EAHCI/photos/photo_16@06-06-2021_11-07-07.jpg</td>\n",
       "      <td>720.0</td>\n",
       "      <td>1280.0</td>\n",
       "    </tr>\n",
       "  </tbody>\n",
       "</table>\n",
       "</div>"
      ],
      "text/plain": [
       "                                  db_id  \\\n",
       "0  1e83ba40-6f7c-4201-93eb-3564eedcaf8d   \n",
       "4  745bfbae-b9ac-4a58-9ac5-26f0d9f0f68a   \n",
       "\n",
       "                                                          channel_name  \\\n",
       "0  ETHIO-AMERICAN MEDICAL TRAININGS( CPD ) & HEALTH CONSULTANCY CENTER   \n",
       "4  ETHIO-AMERICAN MEDICAL TRAININGS( CPD ) & HEALTH CONSULTANCY CENTER   \n",
       "\n",
       "  channel_address  channel_id  message_id                 date  \\\n",
       "0           EAHCI  1432982009          44  2021-05-11 19:55:22   \n",
       "4           EAHCI  1432982009          99  2021-06-06 11:07:07   \n",
       "\n",
       "                                                                                    message  \\\n",
       "0                                                                               ኢድ-ሀሙስ ሆኗል።   \n",
       "4  Circumcision Training started at Hawassa , Theory @Central Hotel ,,,practical ➽Hospitals   \n",
       "\n",
       "                                                                           cleaned_message  \\\n",
       "0                                                                              ኢድ-ሀሙስ ሆኗል።   \n",
       "4  Circumcision Training started at Hawassa , Theory @Central Hotel ,,,practical Hospitals   \n",
       "\n",
       "                                                               media_path  \\\n",
       "0   ../data/raw/scraped_data/EAHCI/photos/photo_7@11-05-2021_19-55-22.jpg   \n",
       "4  ../data/raw/scraped_data/EAHCI/photos/photo_16@06-06-2021_11-07-07.jpg   \n",
       "\n",
       "    width  height  \n",
       "0  1000.0  1000.0  \n",
       "4   720.0  1280.0  "
      ]
     },
     "execution_count": 11,
     "metadata": {},
     "output_type": "execute_result"
    }
   ],
   "source": [
    "query = \"SELECT * FROM telegram_messages LIMIT 5;\"\n",
    "df_pg = pd.read_sql(query, engine)\n",
    "\n",
    "df_pg.sample(2)"
   ]
  },
  {
   "cell_type": "code",
   "execution_count": 12,
   "metadata": {},
   "outputs": [
    {
     "name": "stdout",
     "output_type": "stream",
     "text": [
      "Shape of Dataframe: (5, 11)\n"
     ]
    }
   ],
   "source": [
    "print(f\"Shape of Dataframe: {df_pg.shape}\")"
   ]
  },
  {
   "cell_type": "code",
   "execution_count": 13,
   "metadata": {},
   "outputs": [
    {
     "name": "stdout",
     "output_type": "stream",
     "text": [
      "Dataframe Info: \n",
      "\n",
      "<class 'pandas.core.frame.DataFrame'>\n",
      "RangeIndex: 5 entries, 0 to 4\n",
      "Data columns (total 11 columns):\n",
      " #   Column           Non-Null Count  Dtype  \n",
      "---  ------           --------------  -----  \n",
      " 0   db_id            5 non-null      object \n",
      " 1   channel_name     5 non-null      object \n",
      " 2   channel_address  5 non-null      object \n",
      " 3   channel_id       5 non-null      int64  \n",
      " 4   message_id       5 non-null      int64  \n",
      " 5   date             5 non-null      object \n",
      " 6   message          5 non-null      object \n",
      " 7   cleaned_message  5 non-null      object \n",
      " 8   media_path       5 non-null      object \n",
      " 9   width            5 non-null      float64\n",
      " 10  height           5 non-null      float64\n",
      "dtypes: float64(2), int64(2), object(7)\n",
      "memory usage: 568.0+ bytes\n"
     ]
    }
   ],
   "source": [
    "print(f\"Dataframe Info: \\n\")\n",
    "df_pg.info()"
   ]
  }
 ],
 "metadata": {
  "kernelspec": {
   "display_name": "w7-env",
   "language": "python",
   "name": "python3"
  },
  "language_info": {
   "codemirror_mode": {
    "name": "ipython",
    "version": 3
   },
   "file_extension": ".py",
   "mimetype": "text/x-python",
   "name": "python",
   "nbconvert_exporter": "python",
   "pygments_lexer": "ipython3",
   "version": "3.10.16"
  }
 },
 "nbformat": 4,
 "nbformat_minor": 2
}
